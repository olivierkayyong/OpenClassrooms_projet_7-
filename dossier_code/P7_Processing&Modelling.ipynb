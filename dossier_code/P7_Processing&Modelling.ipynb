{
 "cells": [
  {
   "cell_type": "markdown",
   "id": "74d2b675",
   "metadata": {},
   "source": [
    "## Énoncé\n",
    "Data Scientist au sein d'une société financière, nommée \"Prêt à dépenser\",  qui propose des crédits à la consommation pour des personnes ayant peu ou pas du tout d'historique de prêt.\n",
    "L’entreprise souhaite mettre en œuvre un outil de “scoring crédit” pour calculer la probabilité qu’un client rembourse son crédit, puis classifie la demande en crédit accordé ou refusé.\n",
    "## Mission\n",
    "Consultant au sein de cette entreprise, notre mission est de construire un modèle de scoring qui donnera une prédiction sur la probabilité de faillite d'un client de façon automatique."
   ]
  }
 ],
 "metadata": {
  "kernelspec": {
   "display_name": "Python 3 (ipykernel)",
   "language": "python",
   "name": "python3"
  },
  "language_info": {
   "codemirror_mode": {
    "name": "ipython",
    "version": 3
   },
   "file_extension": ".py",
   "mimetype": "text/x-python",
   "name": "python",
   "nbconvert_exporter": "python",
   "pygments_lexer": "ipython3",
   "version": "3.9.12"
  }
 },
 "nbformat": 4,
 "nbformat_minor": 5
}
